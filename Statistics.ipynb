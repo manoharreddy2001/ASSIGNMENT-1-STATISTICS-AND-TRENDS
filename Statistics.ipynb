{
 "cells": [
  {
   "cell_type": "markdown",
   "id": "53393d5a-46f0-4d2e-9b8f-a4cd0dc46b1e",
   "metadata": {},
   "source": [
    "# Statistics and Trends"
   ]
  },
  {
   "cell_type": "code",
   "execution_count": 33,
   "id": "057d32dd-219a-4e5d-9265-bf0437305df5",
   "metadata": {},
   "outputs": [],
   "source": [
    "import numpy as np\n",
    "import pandas as pd"
   ]
  },
  {
   "cell_type": "code",
   "execution_count": 35,
   "id": "89886bd6-91f9-480c-8f09-9f562ac08db6",
   "metadata": {},
   "outputs": [],
   "source": [
    "data = pd.read_csv(\"C:\\\\Users\\\\nevur\\\\OneDrive\\\\Desktop\\\\20 Years world Population Dataset (2000-2020).csv\")\n",
    "df = pd.DataFrame(data)"
   ]
  },
  {
   "cell_type": "code",
   "execution_count": 21,
   "id": "d741d67a-0c1e-49a0-9cac-b1d00b9a0664",
   "metadata": {
    "scrolled": true
   },
   "outputs": [
    {
     "data": {
      "text/html": [
       "<div>\n",
       "<style scoped>\n",
       "    .dataframe tbody tr th:only-of-type {\n",
       "        vertical-align: middle;\n",
       "    }\n",
       "\n",
       "    .dataframe tbody tr th {\n",
       "        vertical-align: top;\n",
       "    }\n",
       "\n",
       "    .dataframe thead th {\n",
       "        text-align: right;\n",
       "    }\n",
       "</style>\n",
       "<table border=\"1\" class=\"dataframe\">\n",
       "  <thead>\n",
       "    <tr style=\"text-align: right;\">\n",
       "      <th></th>\n",
       "      <th>Unnamed: 0</th>\n",
       "      <th>Location</th>\n",
       "      <th>Time</th>\n",
       "      <th>PopMale</th>\n",
       "      <th>PopFemale</th>\n",
       "      <th>PopTotal</th>\n",
       "      <th>PopDensity</th>\n",
       "    </tr>\n",
       "  </thead>\n",
       "  <tbody>\n",
       "    <tr>\n",
       "      <th>0</th>\n",
       "      <td>0</td>\n",
       "      <td>Afghanistan</td>\n",
       "      <td>2001</td>\n",
       "      <td>11117,754</td>\n",
       "      <td>10489,238</td>\n",
       "      <td>21606,992</td>\n",
       "      <td>33.096</td>\n",
       "    </tr>\n",
       "    <tr>\n",
       "      <th>1</th>\n",
       "      <td>1</td>\n",
       "      <td>Afghanistan</td>\n",
       "      <td>2002</td>\n",
       "      <td>11642,106</td>\n",
       "      <td>10958,668</td>\n",
       "      <td>22600,774</td>\n",
       "      <td>34.618</td>\n",
       "    </tr>\n",
       "    <tr>\n",
       "      <th>2</th>\n",
       "      <td>2</td>\n",
       "      <td>Afghanistan</td>\n",
       "      <td>2003</td>\n",
       "      <td>12214,634</td>\n",
       "      <td>11466,237</td>\n",
       "      <td>23680,871</td>\n",
       "      <td>36.273</td>\n",
       "    </tr>\n",
       "    <tr>\n",
       "      <th>3</th>\n",
       "      <td>3</td>\n",
       "      <td>Afghanistan</td>\n",
       "      <td>2004</td>\n",
       "      <td>12763,726</td>\n",
       "      <td>11962,963</td>\n",
       "      <td>24726,689</td>\n",
       "      <td>37.874</td>\n",
       "    </tr>\n",
       "    <tr>\n",
       "      <th>4</th>\n",
       "      <td>4</td>\n",
       "      <td>Afghanistan</td>\n",
       "      <td>2005</td>\n",
       "      <td>13239,684</td>\n",
       "      <td>12414,59</td>\n",
       "      <td>25654,274</td>\n",
       "      <td>39.295</td>\n",
       "    </tr>\n",
       "    <tr>\n",
       "      <th>...</th>\n",
       "      <td>...</td>\n",
       "      <td>...</td>\n",
       "      <td>...</td>\n",
       "      <td>...</td>\n",
       "      <td>...</td>\n",
       "      <td>...</td>\n",
       "      <td>...</td>\n",
       "    </tr>\n",
       "    <tr>\n",
       "      <th>9475</th>\n",
       "      <td>9475</td>\n",
       "      <td>Zimbabwe</td>\n",
       "      <td>2016</td>\n",
       "      <td>6674,206</td>\n",
       "      <td>7356,132</td>\n",
       "      <td>14030,338</td>\n",
       "      <td>36.268</td>\n",
       "    </tr>\n",
       "    <tr>\n",
       "      <th>9476</th>\n",
       "      <td>9476</td>\n",
       "      <td>Zimbabwe</td>\n",
       "      <td>2017</td>\n",
       "      <td>6777,054</td>\n",
       "      <td>7459,545</td>\n",
       "      <td>14236,599</td>\n",
       "      <td>36.801</td>\n",
       "    </tr>\n",
       "    <tr>\n",
       "      <th>9477</th>\n",
       "      <td>9477</td>\n",
       "      <td>Zimbabwe</td>\n",
       "      <td>2018</td>\n",
       "      <td>6879,119</td>\n",
       "      <td>7559,693</td>\n",
       "      <td>14438,812</td>\n",
       "      <td>37.324</td>\n",
       "    </tr>\n",
       "    <tr>\n",
       "      <th>9478</th>\n",
       "      <td>9478</td>\n",
       "      <td>Zimbabwe</td>\n",
       "      <td>2019</td>\n",
       "      <td>6983,353</td>\n",
       "      <td>7662,12</td>\n",
       "      <td>14645,473</td>\n",
       "      <td>37.858</td>\n",
       "    </tr>\n",
       "    <tr>\n",
       "      <th>9479</th>\n",
       "      <td>9479</td>\n",
       "      <td>Zimbabwe</td>\n",
       "      <td>2020</td>\n",
       "      <td>7092,01</td>\n",
       "      <td>7770,917</td>\n",
       "      <td>14862,927</td>\n",
       "      <td>38.420</td>\n",
       "    </tr>\n",
       "  </tbody>\n",
       "</table>\n",
       "<p>9480 rows × 7 columns</p>\n",
       "</div>"
      ],
      "text/plain": [
       "      Unnamed: 0     Location  Time    PopMale  PopFemale   PopTotal  \\\n",
       "0              0  Afghanistan  2001  11117,754  10489,238  21606,992   \n",
       "1              1  Afghanistan  2002  11642,106  10958,668  22600,774   \n",
       "2              2  Afghanistan  2003  12214,634  11466,237  23680,871   \n",
       "3              3  Afghanistan  2004  12763,726  11962,963  24726,689   \n",
       "4              4  Afghanistan  2005  13239,684   12414,59  25654,274   \n",
       "...          ...          ...   ...        ...        ...        ...   \n",
       "9475        9475     Zimbabwe  2016   6674,206   7356,132  14030,338   \n",
       "9476        9476     Zimbabwe  2017   6777,054   7459,545  14236,599   \n",
       "9477        9477     Zimbabwe  2018   6879,119   7559,693  14438,812   \n",
       "9478        9478     Zimbabwe  2019   6983,353    7662,12  14645,473   \n",
       "9479        9479     Zimbabwe  2020    7092,01   7770,917  14862,927   \n",
       "\n",
       "      PopDensity  \n",
       "0         33.096  \n",
       "1         34.618  \n",
       "2         36.273  \n",
       "3         37.874  \n",
       "4         39.295  \n",
       "...          ...  \n",
       "9475      36.268  \n",
       "9476      36.801  \n",
       "9477      37.324  \n",
       "9478      37.858  \n",
       "9479      38.420  \n",
       "\n",
       "[9480 rows x 7 columns]"
      ]
     },
     "execution_count": 21,
     "metadata": {},
     "output_type": "execute_result"
    }
   ],
   "source": [
    "df"
   ]
  },
  {
   "cell_type": "code",
   "execution_count": 21,
   "id": "d0c963da-2584-4470-aaa7-9135413ea4a8",
   "metadata": {},
   "outputs": [
    {
     "data": {
      "text/html": [
       "<div>\n",
       "<style scoped>\n",
       "    .dataframe tbody tr th:only-of-type {\n",
       "        vertical-align: middle;\n",
       "    }\n",
       "\n",
       "    .dataframe tbody tr th {\n",
       "        vertical-align: top;\n",
       "    }\n",
       "\n",
       "    .dataframe thead th {\n",
       "        text-align: right;\n",
       "    }\n",
       "</style>\n",
       "<table border=\"1\" class=\"dataframe\">\n",
       "  <thead>\n",
       "    <tr style=\"text-align: right;\">\n",
       "      <th></th>\n",
       "      <th>Unnamed: 0</th>\n",
       "      <th>Location</th>\n",
       "      <th>Time</th>\n",
       "      <th>PopMale</th>\n",
       "      <th>PopFemale</th>\n",
       "      <th>PopTotal</th>\n",
       "      <th>PopDensity</th>\n",
       "    </tr>\n",
       "  </thead>\n",
       "  <tbody>\n",
       "    <tr>\n",
       "      <th>0</th>\n",
       "      <td>0</td>\n",
       "      <td>Afghanistan</td>\n",
       "      <td>2001</td>\n",
       "      <td>11117,754</td>\n",
       "      <td>10489,238</td>\n",
       "      <td>21606,992</td>\n",
       "      <td>33.096</td>\n",
       "    </tr>\n",
       "    <tr>\n",
       "      <th>1</th>\n",
       "      <td>1</td>\n",
       "      <td>Afghanistan</td>\n",
       "      <td>2002</td>\n",
       "      <td>11642,106</td>\n",
       "      <td>10958,668</td>\n",
       "      <td>22600,774</td>\n",
       "      <td>34.618</td>\n",
       "    </tr>\n",
       "    <tr>\n",
       "      <th>2</th>\n",
       "      <td>2</td>\n",
       "      <td>Afghanistan</td>\n",
       "      <td>2003</td>\n",
       "      <td>12214,634</td>\n",
       "      <td>11466,237</td>\n",
       "      <td>23680,871</td>\n",
       "      <td>36.273</td>\n",
       "    </tr>\n",
       "    <tr>\n",
       "      <th>3</th>\n",
       "      <td>3</td>\n",
       "      <td>Afghanistan</td>\n",
       "      <td>2004</td>\n",
       "      <td>12763,726</td>\n",
       "      <td>11962,963</td>\n",
       "      <td>24726,689</td>\n",
       "      <td>37.874</td>\n",
       "    </tr>\n",
       "    <tr>\n",
       "      <th>4</th>\n",
       "      <td>4</td>\n",
       "      <td>Afghanistan</td>\n",
       "      <td>2005</td>\n",
       "      <td>13239,684</td>\n",
       "      <td>12414,59</td>\n",
       "      <td>25654,274</td>\n",
       "      <td>39.295</td>\n",
       "    </tr>\n",
       "    <tr>\n",
       "      <th>5</th>\n",
       "      <td>5</td>\n",
       "      <td>Afghanistan</td>\n",
       "      <td>2006</td>\n",
       "      <td>13623,896</td>\n",
       "      <td>12809,162</td>\n",
       "      <td>26433,058</td>\n",
       "      <td>40.488</td>\n",
       "    </tr>\n",
       "    <tr>\n",
       "      <th>6</th>\n",
       "      <td>6</td>\n",
       "      <td>Afghanistan</td>\n",
       "      <td>2007</td>\n",
       "      <td>13938,97</td>\n",
       "      <td>13161,572</td>\n",
       "      <td>27100,542</td>\n",
       "      <td>41.510</td>\n",
       "    </tr>\n",
       "    <tr>\n",
       "      <th>7</th>\n",
       "      <td>7</td>\n",
       "      <td>Afghanistan</td>\n",
       "      <td>2008</td>\n",
       "      <td>14225,725</td>\n",
       "      <td>13496,556</td>\n",
       "      <td>27722,281</td>\n",
       "      <td>42.463</td>\n",
       "    </tr>\n",
       "    <tr>\n",
       "      <th>8</th>\n",
       "      <td>8</td>\n",
       "      <td>Afghanistan</td>\n",
       "      <td>2009</td>\n",
       "      <td>14544,055</td>\n",
       "      <td>13850,751</td>\n",
       "      <td>28394,806</td>\n",
       "      <td>43.493</td>\n",
       "    </tr>\n",
       "    <tr>\n",
       "      <th>9</th>\n",
       "      <td>9</td>\n",
       "      <td>Afghanistan</td>\n",
       "      <td>2010</td>\n",
       "      <td>14935,756</td>\n",
       "      <td>14249,755</td>\n",
       "      <td>29185,511</td>\n",
       "      <td>44.704</td>\n",
       "    </tr>\n",
       "  </tbody>\n",
       "</table>\n",
       "</div>"
      ],
      "text/plain": [
       "   Unnamed: 0     Location  Time    PopMale  PopFemale   PopTotal  PopDensity\n",
       "0           0  Afghanistan  2001  11117,754  10489,238  21606,992      33.096\n",
       "1           1  Afghanistan  2002  11642,106  10958,668  22600,774      34.618\n",
       "2           2  Afghanistan  2003  12214,634  11466,237  23680,871      36.273\n",
       "3           3  Afghanistan  2004  12763,726  11962,963  24726,689      37.874\n",
       "4           4  Afghanistan  2005  13239,684   12414,59  25654,274      39.295\n",
       "5           5  Afghanistan  2006  13623,896  12809,162  26433,058      40.488\n",
       "6           6  Afghanistan  2007   13938,97  13161,572  27100,542      41.510\n",
       "7           7  Afghanistan  2008  14225,725  13496,556  27722,281      42.463\n",
       "8           8  Afghanistan  2009  14544,055  13850,751  28394,806      43.493\n",
       "9           9  Afghanistan  2010  14935,756  14249,755  29185,511      44.704"
      ]
     },
     "execution_count": 21,
     "metadata": {},
     "output_type": "execute_result"
    }
   ],
   "source": [
    "df.head(10)"
   ]
  },
  {
   "cell_type": "code",
   "execution_count": 16,
   "id": "75cac5e9-ed55-471f-bec0-a21eea0f1dc1",
   "metadata": {},
   "outputs": [
    {
     "data": {
      "text/html": [
       "<div>\n",
       "<style scoped>\n",
       "    .dataframe tbody tr th:only-of-type {\n",
       "        vertical-align: middle;\n",
       "    }\n",
       "\n",
       "    .dataframe tbody tr th {\n",
       "        vertical-align: top;\n",
       "    }\n",
       "\n",
       "    .dataframe thead th {\n",
       "        text-align: right;\n",
       "    }\n",
       "</style>\n",
       "<table border=\"1\" class=\"dataframe\">\n",
       "  <thead>\n",
       "    <tr style=\"text-align: right;\">\n",
       "      <th></th>\n",
       "      <th>Unnamed: 0</th>\n",
       "      <th>Location</th>\n",
       "      <th>Time</th>\n",
       "      <th>PopMale</th>\n",
       "      <th>PopFemale</th>\n",
       "      <th>PopTotal</th>\n",
       "      <th>PopDensity</th>\n",
       "    </tr>\n",
       "  </thead>\n",
       "  <tbody>\n",
       "    <tr>\n",
       "      <th>9475</th>\n",
       "      <td>9475</td>\n",
       "      <td>Zimbabwe</td>\n",
       "      <td>2016</td>\n",
       "      <td>6674,206</td>\n",
       "      <td>7356,132</td>\n",
       "      <td>14030,338</td>\n",
       "      <td>36.268</td>\n",
       "    </tr>\n",
       "    <tr>\n",
       "      <th>9476</th>\n",
       "      <td>9476</td>\n",
       "      <td>Zimbabwe</td>\n",
       "      <td>2017</td>\n",
       "      <td>6777,054</td>\n",
       "      <td>7459,545</td>\n",
       "      <td>14236,599</td>\n",
       "      <td>36.801</td>\n",
       "    </tr>\n",
       "    <tr>\n",
       "      <th>9477</th>\n",
       "      <td>9477</td>\n",
       "      <td>Zimbabwe</td>\n",
       "      <td>2018</td>\n",
       "      <td>6879,119</td>\n",
       "      <td>7559,693</td>\n",
       "      <td>14438,812</td>\n",
       "      <td>37.324</td>\n",
       "    </tr>\n",
       "    <tr>\n",
       "      <th>9478</th>\n",
       "      <td>9478</td>\n",
       "      <td>Zimbabwe</td>\n",
       "      <td>2019</td>\n",
       "      <td>6983,353</td>\n",
       "      <td>7662,12</td>\n",
       "      <td>14645,473</td>\n",
       "      <td>37.858</td>\n",
       "    </tr>\n",
       "    <tr>\n",
       "      <th>9479</th>\n",
       "      <td>9479</td>\n",
       "      <td>Zimbabwe</td>\n",
       "      <td>2020</td>\n",
       "      <td>7092,01</td>\n",
       "      <td>7770,917</td>\n",
       "      <td>14862,927</td>\n",
       "      <td>38.420</td>\n",
       "    </tr>\n",
       "  </tbody>\n",
       "</table>\n",
       "</div>"
      ],
      "text/plain": [
       "      Unnamed: 0  Location  Time   PopMale PopFemale   PopTotal  PopDensity\n",
       "9475        9475  Zimbabwe  2016  6674,206  7356,132  14030,338      36.268\n",
       "9476        9476  Zimbabwe  2017  6777,054  7459,545  14236,599      36.801\n",
       "9477        9477  Zimbabwe  2018  6879,119  7559,693  14438,812      37.324\n",
       "9478        9478  Zimbabwe  2019  6983,353   7662,12  14645,473      37.858\n",
       "9479        9479  Zimbabwe  2020   7092,01  7770,917  14862,927      38.420"
      ]
     },
     "execution_count": 16,
     "metadata": {},
     "output_type": "execute_result"
    }
   ],
   "source": [
    "df.tail()"
   ]
  },
  {
   "cell_type": "code",
   "execution_count": 9,
   "id": "149476b1-3000-4dc2-96da-3d528dab3230",
   "metadata": {},
   "outputs": [
    {
     "data": {
      "text/plain": [
       "Unnamed: 0    9480\n",
       "Location      9480\n",
       "Time          9480\n",
       "PopMale       8800\n",
       "PopFemale     8800\n",
       "PopTotal      9480\n",
       "PopDensity    9480\n",
       "dtype: int64"
      ]
     },
     "execution_count": 9,
     "metadata": {},
     "output_type": "execute_result"
    }
   ],
   "source": [
    "df.count()"
   ]
  },
  {
   "cell_type": "code",
   "execution_count": 23,
   "id": "9467bb70-c0e9-41ca-8991-459345b5cc1c",
   "metadata": {},
   "outputs": [
    {
     "data": {
      "text/html": [
       "<div>\n",
       "<style scoped>\n",
       "    .dataframe tbody tr th:only-of-type {\n",
       "        vertical-align: middle;\n",
       "    }\n",
       "\n",
       "    .dataframe tbody tr th {\n",
       "        vertical-align: top;\n",
       "    }\n",
       "\n",
       "    .dataframe thead th {\n",
       "        text-align: right;\n",
       "    }\n",
       "</style>\n",
       "<table border=\"1\" class=\"dataframe\">\n",
       "  <thead>\n",
       "    <tr style=\"text-align: right;\">\n",
       "      <th></th>\n",
       "      <th>Unnamed: 0</th>\n",
       "      <th>Time</th>\n",
       "      <th>PopDensity</th>\n",
       "    </tr>\n",
       "  </thead>\n",
       "  <tbody>\n",
       "    <tr>\n",
       "      <th>count</th>\n",
       "      <td>9480.00000</td>\n",
       "      <td>9480.000000</td>\n",
       "      <td>9480.000000</td>\n",
       "    </tr>\n",
       "    <tr>\n",
       "      <th>mean</th>\n",
       "      <td>4739.50000</td>\n",
       "      <td>2010.500000</td>\n",
       "      <td>247.285748</td>\n",
       "    </tr>\n",
       "    <tr>\n",
       "      <th>std</th>\n",
       "      <td>2736.78461</td>\n",
       "      <td>5.766585</td>\n",
       "      <td>1471.578845</td>\n",
       "    </tr>\n",
       "    <tr>\n",
       "      <th>min</th>\n",
       "      <td>0.00000</td>\n",
       "      <td>2001.000000</td>\n",
       "      <td>0.137000</td>\n",
       "    </tr>\n",
       "    <tr>\n",
       "      <th>25%</th>\n",
       "      <td>2369.75000</td>\n",
       "      <td>2005.750000</td>\n",
       "      <td>26.636000</td>\n",
       "    </tr>\n",
       "    <tr>\n",
       "      <th>50%</th>\n",
       "      <td>4739.50000</td>\n",
       "      <td>2010.500000</td>\n",
       "      <td>56.437500</td>\n",
       "    </tr>\n",
       "    <tr>\n",
       "      <th>75%</th>\n",
       "      <td>7109.25000</td>\n",
       "      <td>2015.250000</td>\n",
       "      <td>135.011500</td>\n",
       "    </tr>\n",
       "    <tr>\n",
       "      <th>max</th>\n",
       "      <td>9479.00000</td>\n",
       "      <td>2020.000000</td>\n",
       "      <td>26338.255000</td>\n",
       "    </tr>\n",
       "  </tbody>\n",
       "</table>\n",
       "</div>"
      ],
      "text/plain": [
       "       Unnamed: 0         Time    PopDensity\n",
       "count  9480.00000  9480.000000   9480.000000\n",
       "mean   4739.50000  2010.500000    247.285748\n",
       "std    2736.78461     5.766585   1471.578845\n",
       "min       0.00000  2001.000000      0.137000\n",
       "25%    2369.75000  2005.750000     26.636000\n",
       "50%    4739.50000  2010.500000     56.437500\n",
       "75%    7109.25000  2015.250000    135.011500\n",
       "max    9479.00000  2020.000000  26338.255000"
      ]
     },
     "execution_count": 23,
     "metadata": {},
     "output_type": "execute_result"
    }
   ],
   "source": [
    "df.describe()"
   ]
  },
  {
   "cell_type": "code",
   "execution_count": 25,
   "id": "0b1f0c76-9710-4a90-b62c-f15d79bc66e7",
   "metadata": {},
   "outputs": [],
   "source": [
    "from scipy.stats import skew, kurtosis\n",
    "skewness = df[\"Time\"].skew()\n",
    "kurtosis = df[\"PopDensity\"].kurtosis()\n",
    "correlation = df[\"Time\"].corr(df[\"PopDensity\"])"
   ]
  },
  {
   "cell_type": "code",
   "execution_count": 27,
   "id": "4951f1fa-acd9-4f21-915a-62b04f882137",
   "metadata": {},
   "outputs": [
    {
     "data": {
      "text/plain": [
       "0.0"
      ]
     },
     "execution_count": 27,
     "metadata": {},
     "output_type": "execute_result"
    }
   ],
   "source": [
    "skewness"
   ]
  },
  {
   "cell_type": "code",
   "execution_count": 29,
   "id": "a1fc3df4-feb3-4f0a-8134-fd54c5a3be28",
   "metadata": {},
   "outputs": [
    {
     "data": {
      "text/plain": [
       "199.4034386461291"
      ]
     },
     "execution_count": 29,
     "metadata": {},
     "output_type": "execute_result"
    }
   ],
   "source": [
    "kurtosis"
   ]
  },
  {
   "cell_type": "code",
   "execution_count": 31,
   "id": "fd5428c3-c5fc-4a0c-ba93-3986d2c57e89",
   "metadata": {},
   "outputs": [
    {
     "data": {
      "text/plain": [
       "0.012620082275681748"
      ]
     },
     "execution_count": 31,
     "metadata": {},
     "output_type": "execute_result"
    }
   ],
   "source": [
    "correlation"
   ]
  },
  {
   "cell_type": "code",
   "execution_count": 9,
   "id": "6fc671f7-dec6-44af-973f-7403d8efc57b",
   "metadata": {},
   "outputs": [
    {
     "data": {
      "image/png": "[encoded data removed]",
      "text/plain": [
       "<Figure size 640x480 with 1 Axes>"
      ]
     },
     "metadata": {},
     "output_type": "display_data"
    }
   ],
   "source": [
    "import matplotlib.pyplot as plt\n",
    "\n",
    "# Data\n",
    "x = [\"2001\",\"2002\",\"2003\",\"2004\",\"2005\",\"2006\",\"2007\",\"2008\",\"2009\",\"2010\"]\n",
    "y = [\"33.096\",\"34.618\",\"36.273\",\"37.874\",\"39.295\",\"40.488\",\"41.510\",\"42.463\",\"43.493\",\"44.704\"]\n",
    "y = [float(value) for value in y] #converting the str values to float values\n",
    "plt.plot(x, y, marker='o')# Create a line plot\n",
    "plt.xlabel(\"Time\")\n",
    "plt.ylabel(\"Population of Males\")\n",
    "plt.legend(\"PopMale\")\n",
    "plt.xticks(rotation = 45)\n",
    "plt.title(\"Line Plot of Time vs Population of Males\")\n",
    "plt.show()\n",
    "\n"
   ]
  },
  {
   "cell_type": "code",
   "execution_count": 37,
   "id": "273f5606-82fb-4d97-bc42-094a6388cfde",
   "metadata": {},
   "outputs": [
    {
     "data": {
      "image/png": "[encoded data removed]",
      "text/plain": [
       "<Figure size 640x480 with 1 Axes>"
      ]
     },
     "metadata": {},
     "output_type": "display_data"
    }
   ],
   "source": [
    "\n",
    "x = [\"2001\",\"2002\",\"2003\",\"2004\",\"2005\",\"2006\",\"2007\",\"2008\",\"2009\",\"2010\"]\n",
    "y = [\"33.096\",\"34.618\",\"36.273\",\"37.874\",\"39.295\",\"40.488\",\"41.510\",\"42.463\",\"43.493\",\"44.704\"]\n",
    "\n",
    "# Convert y values to float\n",
    "y = [float(value) for value in y]\n",
    "\n",
    "# Create a bar chart\n",
    "plt.bar(x, y, color='skyblue',edgecolor = 'black')\n",
    "plt.xlabel(\"Time\")\n",
    "plt.ylabel(\"Population of Males\")\n",
    "plt.legend(\"PopMale\")\n",
    "plt.title(\"Bar Chart of Time vs Population of Males\")\n",
    "plt.xticks(rotation=45)\n",
    "plt.show()\n"
   ]
  },
  {
   "cell_type": "code",
   "execution_count": 41,
   "id": "fab8aa41-5e99-421a-b310-789bfd66f7a1",
   "metadata": {},
   "outputs": [
    {
     "data": {
      "image/png": "[encoded data removed]",
      "text/plain": [
       "<Figure size 640x480 with 1 Axes>"
      ]
     },
     "metadata": {},
     "output_type": "display_data"
    }
   ],
   "source": [
    "y = [\"33.096\",\"34.618\",\"36.273\",\"37.874\",\"39.295\",\"40.488\",\"41.510\",\"42.463\",\"43.493\",\"44.704\"]\n",
    "y = [float(value) for value in y] # converting into float\n",
    "plt.boxplot(y)\n",
    "plt.ylabel(\"Population of Males\")\n",
    "plt.legend(\"PopMale\",loc = \"upper left\")\n",
    "plt.title(\"Box Plot of Population of Males (2001-2010)\")\n",
    "plt.xticks([1], [\"2001-2010\"])  # x label for boxplot\n",
    "plt.show()"
   ]
  },
  {
   "cell_type": "code",
   "execution_count": null,
   "id": "b682d7d9-a184-4262-aef0-93531f290adc",
   "metadata": {},
   "outputs": [],
   "source": []
  }
 ],
 "metadata": {
  "kernelspec": {
   "display_name": "Python 3 (ipykernel)",
   "language": "python",
   "name": "python3"
  },
  "language_info": {
   "codemirror_mode": {
    "name": "ipython",
    "version": 3
   },
   "file_extension": ".py",
   "mimetype": "text/x-python",
   "name": "python",
   "nbconvert_exporter": "python",
   "pygments_lexer": "ipython3",
   "version": "3.12.7"
  }
 },
 "nbformat": 4,
 "nbformat_minor": 5
}
